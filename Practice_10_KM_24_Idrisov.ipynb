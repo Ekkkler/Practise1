{
  "cells": [
    {
      "cell_type": "markdown",
      "metadata": {
        "id": "FMqboNwO4rVs"
      },
      "source": [
        "# **Курс \"Програмування на мові Python\"**"
      ]
    },
    {
      "cell_type": "markdown",
      "metadata": {
        "id": "A2T6MigL5Z06"
      },
      "source": [
        "## **Практичне зайняття №10**\n",
        "\n",
        "### Тема: \"Лямбда-функції. Функції вищих порядків\""
      ]
    },
    {
      "cell_type": "markdown",
      "metadata": {
        "id": "cfCdgK2zXm7e"
      },
      "source": [
        "### **Завдання 1 (1 бал)**\n",
        "\n",
        "Продавець роздрібного товару влаштовує розпродаж. Для всіх товарів знижка однакова - 60%. Щоб вивісити нові цінники, продавець хоче скласти таблицю, в якій для кожного товару буде підрахована його нова вартість та сума знижки.\n",
        "\n",
        "Написати програму, яка буде генерувати таку таблицю. Вартість одиниць товарів до розпродажу подано у списку products_list. \n",
        "\n",
        "1. Для підрахунку невідомих значень повинні використовуватись вбудовані функції вищих порядків.\n",
        "\n",
        "2. Вартість з урахуванням знижки та суми знижок для кожного товару повинні зберігатись у двох окремих списках. Порядок товарів у нових списках повинен бути такий самий, як і в списку products_list.\n",
        "\n",
        "3. Кожне підраховане числове значення має бути округлене до сотих.\n",
        "\n",
        "4. Дані повинні виводитись у вигляді:\n",
        "\n",
        "**Discount table:**\n",
        "\n",
        "**15.89 6.36 9.53**\n",
        "\n",
        "**39.99 16.0 23.99**\n",
        "\n",
        "**...**\n",
        "\n",
        "\n",
        "products_list = [15.89, 39.99, 82.10, 135.85, 318.90, 510.00, 799.98]"
      ]
    },
    {
      "cell_type": "code",
      "execution_count": 2,
      "metadata": {
        "id": "ifNX2M7LXm7f"
      },
      "outputs": [
        {
          "name": "stdout",
          "output_type": "stream",
          "text": [
            "Discount table:\n",
            "15.89 6.36 9.53\n",
            "39.99 16.0 23.99\n",
            "82.1 32.84 49.26\n",
            "135.85 54.34 81.51\n",
            "318.9 127.56 191.34\n",
            "510.0 204.0 306.0\n",
            "799.98 319.99 479.99\n"
          ]
        }
      ],
      "source": [
        "products = [15.89, 39.99, 82.10, 135.85, 318.90, 510.00, 799.98]\n",
        "\n",
        "discounted = map(lambda x: x * 0.4, products)\n",
        "discounts = map(lambda x: x * 0.6, products)\n",
        "\n",
        "print(\"Discount table:\")\n",
        "for i in zip(products, discounted, discounts):\n",
        "    print(*map(lambda x: round(x, 2), i))"
      ]
    },
    {
      "cell_type": "markdown",
      "metadata": {},
      "source": [
        "### **Завдання 2 (2 бали)**\n",
        "\n",
        "Зазвичай рік має 365 днів. Однак у високосні роки додається ще один день - 29 лютого. Правила визначення високосного року такі:\n",
        "\n",
        "- Будь-який рік, що ділиться на 400 - високосний.\n",
        "\n",
        "- З тих років, що залишились, будь-який рік, що ділиться на 100 - **не** високосний.\n",
        "\n",
        "- З тих років, що залишились, будь-який рік, що ділиться на 4 - високосний.\n",
        "\n",
        "- Усі інші роки, що залишились - **не** високосні.\n",
        "\n",
        "1) Створіть функцію, в якій за допомогою вбудованих функцій вищих порядків будуть визначатися високосні роки серед перелічених років у списку years. Створена функція має повертати список високосних років.\n",
        "\n",
        "2) Створіть функцію вищих порядків, яка прийматиме на вхід попередню функцію та визначатиме кількість днів у місяці. Також функція повинна приймати на вхід ще 2 параметри: ціле число від 1 до 12 (місяць) та рік, як ціле чотирицифрове число. Ці значення корисувач має вводити з клавіатури. Перевірку введених даних слід виконувати поза межами функцій."
      ]
    },
    {
      "cell_type": "code",
      "execution_count": 4,
      "metadata": {},
      "outputs": [
        {
          "name": "stdout",
          "output_type": "stream",
          "text": [
            "There are 31 days in 12/2024\n"
          ]
        }
      ],
      "source": [
        "import numpy as np\n",
        "\n",
        "def is_leap(year):\n",
        "    if year % 400 == 0: return True\n",
        "\n",
        "    if year % 100 == 0: return False\n",
        "\n",
        "    if year % 4 == 0: return True\n",
        "\n",
        "    return False\n",
        "\n",
        "def get_leap_years(years):\n",
        "    return list(filter(is_leap, years))\n",
        "\n",
        "def day_count(yy, mm, leap_func):\n",
        "    days = (31, 29 if leap_func(yy) else 28, 31, 30, 31, 30, 31, 31, 30, 31, 30, 31)\n",
        "    return days[mm-1]\n",
        "\n",
        "def input_num(number_type, valid=lambda x: True):\n",
        "    while True:\n",
        "        try:\n",
        "            a = number_type(input())\n",
        "            if not valid(a): raise Exception()\n",
        "            return a\n",
        "        except Exception:\n",
        "            pass\n",
        "\n",
        "years = np.arange(1900, 2020+1, 1)\n",
        "\n",
        "\n",
        "\n",
        "month = input_num(int, lambda x: x >= 0 and x <= 12)\n",
        "year = input_num(int, lambda x: x > 999 and x < 10000)\n",
        "\n",
        "\n",
        "print(\"There are\", day_count(year, month, is_leap), f\"days in {month}/{year}\")\n",
        "\n"
      ]
    }
  ],
  "metadata": {
    "colab": {
      "collapsed_sections": [],
      "name": "Practice_7_KM-01_.ipynb",
      "provenance": []
    },
    "kernelspec": {
      "display_name": "Python 3",
      "language": "python",
      "name": "python3"
    },
    "language_info": {
      "codemirror_mode": {
        "name": "ipython",
        "version": 3
      },
      "file_extension": ".py",
      "mimetype": "text/x-python",
      "name": "python",
      "nbconvert_exporter": "python",
      "pygments_lexer": "ipython3",
      "version": "3.10.7"
    },
    "vscode": {
      "interpreter": {
        "hash": "78f5b707d86fd9281530b9fa2dbdbe1b33232c3b651a8e052360c651d4996094"
      }
    }
  },
  "nbformat": 4,
  "nbformat_minor": 0
}
