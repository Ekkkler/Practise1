{
  "cells": [
    {
      "cell_type": "markdown",
      "metadata": {
        "id": "FMqboNwO4rVs"
      },
      "source": [
        "# **Курс \"Програмування на мові Python\"**"
      ]
    },
    {
      "cell_type": "markdown",
      "metadata": {
        "id": "A2T6MigL5Z06"
      },
      "source": [
        "## **Практичне зайняття №9**\n",
        "\n",
        "### Тема: \"Робота з функціями. Локальні та глобальні змінні\""
      ]
    },
    {
      "cell_type": "markdown",
      "metadata": {
        "id": "cfCdgK2zXm7e"
      },
      "source": [
        "### **Завдання 1 (3 бали)**\n",
        "\n",
        "**Підрахувати визначник матриці, використовуючи правило перестановок.**\n",
        "\n",
        "Функція random_matrix() призначена для створення квадратної матриці випадкових чисел. Її змінювати непотрібно.\n",
        "\n",
        "Приклад використання методу permutations() для створення списку перестановок також подається у комірці з кодом.\n",
        "\n",
        "1) Створити 3 функції: функцію створення списку перестановок, функцію підрахунку добутків та функцію підрахунку загальної суми.\n",
        "\n",
        "2) Кожна функція має супроводжуватись рядком документації, що буде коротко описувати її призначення.\n",
        "\n",
        "3) Розмірність квадратної матриці має вводитись користувачем з клавіатури. Підрахунки виконувати лише в тому разі, якщо користувач введе ціле додатне число.\n",
        "\n",
        "4) Загальний результат повинен підраховуватись за допомогою композиції функцій.\n",
        "\n",
        "За бажанням можна перевірити правильність роботи програми за допомогою функції np.linalg.det(a)."
      ]
    },
    {
      "cell_type": "code",
      "execution_count": 1,
      "metadata": {
        "id": "ifNX2M7LXm7f"
      },
      "outputs": [
        {
          "name": "stdout",
          "output_type": "stream",
          "text": [
            "-32.999999999999986\n",
            "-33\n"
          ]
        }
      ],
      "source": [
        "import numpy as np\n",
        "import itertools\n",
        "from functools import reduce\n",
        "\n",
        "def random_matrix(dim):\n",
        "    \"\"\"\n",
        "    The function generates dim x dim array of integers\n",
        "    between 0 and 10.\n",
        "    \"\"\"\n",
        "    matrix = np.random.randint(10, size = (dim, dim))\n",
        "    return matrix\n",
        "\n",
        "def inv_sign(perm):\n",
        "    c = 0\n",
        "    for i, ival in enumerate(perm):\n",
        "        for jval in perm[i+1:]:\n",
        "            if ival > jval:\n",
        "                c+=1\n",
        "    return 1 if c % 2 == 0 else -1\n",
        "\n",
        "\n",
        "def permutations_list(matrix):\n",
        "    \"\"\"\n",
        "    returns a list of permutations for a given matrix.\n",
        "    \"\"\"\n",
        "    perms = itertools.permutations(range(len(matrix)))\n",
        "    r = []\n",
        "    for perm in perms:\n",
        "        cur = [inv_sign(perm)]\n",
        "        cur.extend((matrix[i, j] for i, j in enumerate(perm)))\n",
        "        r.append(cur)\n",
        "    return r\n",
        "\n",
        "\n",
        "def products(perms):\n",
        "    \"\"\"\n",
        "    computes products of lists in \"perms\" list.\n",
        "    \"\"\"\n",
        "    return map(lambda perm: reduce(lambda u, v: u * v, perm, 1), perms)\n",
        "\n",
        "def sums(prods):\n",
        "    \"\"\"\n",
        "    computes sum of list of numbers.\n",
        "    \"\"\"\n",
        "    return sum(prods)\n",
        "\n",
        "def det(matrix):\n",
        "    return sums(products(permutations_list(matrix)))\n",
        "\n",
        "\n",
        "size = int(input(\"Enter size of matrix:\"))\n",
        "\n",
        "if size > 0:\n",
        "    m = random_matrix(size)\n",
        "    print(np.linalg.det(m))\n",
        "    print(det(m))\n",
        "else:\n",
        "    print(\"Error\")\n"
      ]
    }
  ],
  "metadata": {
    "colab": {
      "collapsed_sections": [],
      "name": "Practice_7_KM-01_.ipynb",
      "provenance": []
    },
    "kernelspec": {
      "display_name": "Python 3",
      "language": "python",
      "name": "python3"
    },
    "language_info": {
      "codemirror_mode": {
        "name": "ipython",
        "version": 3
      },
      "file_extension": ".py",
      "mimetype": "text/x-python",
      "name": "python",
      "nbconvert_exporter": "python",
      "pygments_lexer": "ipython3",
      "version": "3.10.7"
    },
    "vscode": {
      "interpreter": {
        "hash": "78f5b707d86fd9281530b9fa2dbdbe1b33232c3b651a8e052360c651d4996094"
      }
    }
  },
  "nbformat": 4,
  "nbformat_minor": 0
}
