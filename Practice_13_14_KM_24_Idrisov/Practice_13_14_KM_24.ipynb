{
  "cells": [
    {
      "cell_type": "markdown",
      "metadata": {
        "id": "FMqboNwO4rVs"
      },
      "source": [
        "# **Курс \"Програмування на мові Python\"**"
      ]
    },
    {
      "cell_type": "markdown",
      "metadata": {
        "id": "A2T6MigL5Z06"
      },
      "source": [
        "## **Практичні зайняття №13-14**\n",
        "\n",
        "### Тема: \"Робота з файлами. Робота зі спеціальними форматами файлів\""
      ]
    },
    {
      "cell_type": "markdown",
      "metadata": {
        "id": "cfCdgK2zXm7e"
      },
      "source": [
        "### **Завдання 1 (1,5 бали)**\n",
        "\n",
        "У 1939 році друком вийшов роман американського письменика Ернеста Вінсента Райта \"Ґетсбі\". Особливу увагу публіки він здобув через те, що письменник жодного разу не використав у романі літеру \"e\" (роман складається з більше ніж 50,000 слів), яка є найбільш вживаною літерою в англійській мові.\n",
        "\n",
        "Порахуйте кількість входжень кожної літери у текст роману. Виведіть список літер англійського алфавіту, а також інформацію про те, скільки відсотків від усіх літер тексту складає кожна літера алфавіту.\n",
        "\n",
        "Зауваження:\n",
        "\n",
        "1. Програма має ігнорувати будь-які символи, окрім літер.\n",
        "\n",
        "2. Переведіть усі літери у верхній або у нижній регістр.\n",
        "\n",
        "3. Під час виведення відсортуйте літери у порядку зменшення їхнього відсотка. Літера \"e\" має стояти на останньому місці у цьому списку (хоча кілька літер e там все ж таки зустрічається).\n",
        "\n",
        "4. Виведіть перші 5 та останні 5 літер відсортованого списку разом з відсотковими значеннями, що їм відповідають. Відсотки округліть до тисячних."
      ]
    },
    {
      "cell_type": "code",
      "execution_count": 1,
      "metadata": {
        "id": "u4-fHJJ6U462",
        "tags": []
      },
      "outputs": [
        {
          "name": "stdout",
          "output_type": "stream",
          "text": [
            "a 10.952%\n",
            "o 10.419%\n",
            "i 8.825%\n",
            "n 8.597%\n",
            "t 8.494%\n",
            "\n",
            "j 0.23%\n",
            "z 0.107%\n",
            "x 0.079%\n",
            "q 0.051%\n",
            "e 0.002%\n"
          ]
        }
      ],
      "source": [
        "\n",
        "counts = {}\n",
        "letters = 0\n",
        "with open(\"gadsby.txt\") as file:\n",
        "    for line in file:\n",
        "        for letter in map(str.lower, filter(str.isalpha, line)):\n",
        "            counts[letter] = counts.get(letter, 0) + 1\n",
        "            letters += 1\n",
        "\n",
        "s = sorted(counts.items(), key=lambda x: x[1], reverse=True)\n",
        "\n",
        "for k, v in s[:5]:\n",
        "    print(f'{k} {round(v/letters * 100, 3)}%')\n",
        "print()\n",
        "for k, v in s[-5:]:\n",
        "    print(f'{k} {round(v/letters * 100, 3)}%')\n",
        "\n"
      ]
    },
    {
      "cell_type": "markdown",
      "metadata": {
        "id": "A34oz70eU463"
      },
      "source": [
        "### **Завдання 2 (1,5 бали)**\n",
        "\n",
        "Архів archive.zip містить 140 txt-файлів, в яких збережено інфорамцію про те, якими іменами називали дітей у США в період з 1880 по 2019 рік.\n",
        "\n",
        "Структура рядка кожного файлу така:\n",
        "\n",
        "*name,sex,number_of_occurrences*\n",
        "\n",
        "Напишіть програму, яка зчитуватиме кожен файл та визначатиме окремо чоловічі, окремо жіночі імена, що були найпопулярнішими хоча б в один з років. Далі програма повинна підраховувати, скільки разів кожне з цих імен ставало найпопулярнишим, та виводити ранжовані списки чоловічіх та жіночих імен у вигляді:\n",
        "\n",
        "```\n",
        "Michael 44\n",
        "John 44\n",
        "Robert 17\n",
        "...\n",
        "\n",
        "Mary 76\n",
        "Jennifer 15\n",
        "Emily 12\n",
        "...\n",
        "```"
      ]
    },
    {
      "cell_type": "code",
      "execution_count": 2,
      "metadata": {},
      "outputs": [
        {
          "name": "stdout",
          "output_type": "stream",
          "text": [
            "John 44\n",
            "Michael 44\n",
            "Robert 17\n",
            "Jacob 14\n",
            "James 13\n",
            "Noah 4\n",
            "Liam 3\n",
            "David 1\n",
            "Mary 76\n",
            "Jennifer 15\n",
            "Emily 12\n",
            "Jessica 9\n",
            "Lisa 8\n",
            "Linda 6\n",
            "Emma 6\n",
            "Sophia 3\n",
            "Ashley 2\n",
            "Isabella 2\n",
            "Olivia 1\n"
          ]
        }
      ],
      "source": [
        "import os\n",
        "import itertools\n",
        "\n",
        "directory = 'archive'\n",
        "\n",
        "\n",
        "def split_str(s):\n",
        "    name, sex, occ = s.split(',')\n",
        "\n",
        "    return name, sex, int(occ)\n",
        "\n",
        "def max_name(names, sex):\n",
        "    return max(filter(lambda x: x[1] == sex, names), key=lambda x: x[2])\n",
        "\n",
        "def dict_increment(d, key):\n",
        "    d[key] = d.get(key, 0) + 1\n",
        "    \n",
        "def sorted_name_dict(d):\n",
        "    return sorted(d.items(), key=lambda x: x[1], reverse=True)\n",
        "\n",
        "m, f = dict(), dict()\n",
        "\n",
        "for filename in filter(lambda x: x.endswith('.txt'), os.listdir(directory)):\n",
        "    \n",
        "    with open(os.path.join(directory, filename)) as file:\n",
        "        names = list(map(split_str, file))\n",
        "\n",
        "        max_m = max_name(names, 'M')[0]\n",
        "        max_f = max_name(names, 'F')[0]\n",
        "\n",
        "        dict_increment(m, max_m)\n",
        "        dict_increment(f, max_f)\n",
        "\n",
        "males = sorted_name_dict(m)\n",
        "females = sorted_name_dict(f)\n",
        "\n",
        "for k, v in itertools.chain(males, females):\n",
        "    print(k, v)\n",
        "\n",
        "\n"
      ]
    },
    {
      "cell_type": "markdown",
      "metadata": {},
      "source": [
        "### **Завдання 3 (1,5 бали)**\n",
        "\n",
        "Створіть CSV-файл, що буде містити від 5 до 10 пісень (творів) вашого улюбленого музиканта. Назва файлу - ім'я музиканта (композитора) або назва гурту.\n",
        "\n",
        "1. Обов'язково додайте до файлу рядок з назвами двох колонок (Song, Year) або (Composition, Year).\n",
        "\n",
        "2. Після запису файлу роздрукуйте назву файлу та усі наявні у файлі рядки (включно із заголовками).\n",
        "\n",
        "3. Для запису та зчитування рядків скористайтесь функціями csv.DictWriter() та csv.DictReader()."
      ]
    },
    {
      "cell_type": "code",
      "execution_count": 3,
      "metadata": {},
      "outputs": [
        {
          "name": "stdout",
          "output_type": "stream",
          "text": [
            "SadSvit.csv\n",
            "lines:\n",
            "Song,Year\n",
            "\n",
            "Силуети,2022\n",
            "\n",
            "Касета,2021\n",
            "\n",
            "Небо,2022\n",
            "\n",
            "Персонажі,2022\n",
            "\n",
            "Сон,2021\n",
            "\n",
            "\n",
            "['Song', 'Year'] \n",
            "\n",
            "{'Song': 'Силуети', 'Year': '2022'}\n",
            "{'Song': 'Касета', 'Year': '2021'}\n",
            "{'Song': 'Небо', 'Year': '2022'}\n",
            "{'Song': 'Персонажі', 'Year': '2022'}\n",
            "{'Song': 'Сон', 'Year': '2021'}\n"
          ]
        }
      ],
      "source": [
        "\n",
        "import csv\n",
        "\n",
        "filename = \"SadSvit.csv\"\n",
        "\n",
        "songs_list = [\n",
        "    (\"Силуети\", 2022),\n",
        "    (\"Касета\", 2021),\n",
        "    (\"Небо\", 2022),\n",
        "    (\"Персонажі\", 2022),\n",
        "    (\"Сон\", 2021)\n",
        "]\n",
        "\n",
        "header = (song_header, year_header) = (\"Song\",\"Year\")\n",
        "\n",
        "songs = [{ song_header: song, year_header: year} for song, year in songs_list]\n",
        "\n",
        "with open(filename, 'w') as file:\n",
        "    writer = csv.DictWriter(file, header)\n",
        "    writer.writeheader()\n",
        "    writer.writerows(songs)\n",
        "\n",
        "print(filename)\n",
        "with open(filename, 'r') as file:\n",
        "    print('lines:')\n",
        "    for line in file.readlines():\n",
        "        print(line, end='')\n",
        "    print()\n",
        "\n",
        "    file.seek(0)\n",
        "\n",
        "    reader = csv.DictReader(file)\n",
        "    print(reader.fieldnames, '\\n')\n",
        "\n",
        "    for row in reader:\n",
        "        print(row)"
      ]
    },
    {
      "cell_type": "markdown",
      "metadata": {},
      "source": [
        "### **Завдання 4 (1,5 бали)**\n",
        "\n",
        "COCO Dataset - набір фотографій та анотацій до них. Його дуже часто використовують для тренування класифікаторів, призначених для розпізнавання об'єктів та визначення ключових точок на зображеннях.\n",
        "\n",
        "Завантажте файли з описом фотографій COCO Dataset за посиланням: [COCO Dataset](http://images.cocodataset.org/annotations/image_info_test2017.zip).\n",
        "\n",
        "Відкрийте файл image_info_test-dev2017.json. Інформація про фотографії з бази COCO міститься у полі \"images\". Інформація про категорії, на які розділені всі фотографії, міститься у полі \"categories\".\n",
        "\n",
        "1. Визначте кількість фотографій, інформацію про які можна знайти у цьому файлі (кількість елементів, що відповідають ключу \"images\").\n",
        "\n",
        "2. Визначте кількість наявних категорій (кількість елементів, що відповідають ключу \"categories\").\n",
        "\n",
        "3. Виведіть посилання на фотографію 000000000001.jpg (\"coco_url\"). Також виведіть висоту цієї фотографії (\"height\"), ширину (\"width\") та її ідентифікатор (\"id\").\n",
        "\n",
        "4. Виведіть назву фотографії з набільшим номером.\n",
        "\n",
        "Опис структури JSON-файлу для набору фотографій COCO можна знайти за посиланням: [Data format](https://cocodataset.org/#format-data).\n",
        "\n",
        "Щоб перевірити правильність результатів, у VS Code встановіть розширення JSON та відкрийте файл image_info_test-dev2017.json. Розширення автоматично визначає кількість елементів у кожному полі."
      ]
    },
    {
      "cell_type": "code",
      "execution_count": 6,
      "metadata": {},
      "outputs": [
        {
          "name": "stdout",
          "output_type": "stream",
          "text": [
            "1. 20288\n",
            "2. 80\n",
            "url: http://images.cocodataset.org/test2017/000000000001.jpg\n",
            "height: 480\n",
            "width: 640\n",
            "id: 1\n"
          ]
        },
        {
          "data": {
            "text/plain": [
              "'000000581918.jpg'"
            ]
          },
          "execution_count": 6,
          "metadata": {},
          "output_type": "execute_result"
        }
      ],
      "source": [
        "import json\n",
        "filename = 'dataset.json'\n",
        "\n",
        "data = None\n",
        "with open(filename) as file:\n",
        "    data = json.load(file)\n",
        "\n",
        "print('1.', len(data.get('images', [])))\n",
        "print('2.', len(data.get('categories', [])))\n",
        "\n",
        "for image in data.get('images', []):\n",
        "    if not image.get('file_name', '') == '000000000001.jpg':\n",
        "        continue\n",
        "\n",
        "    print('url:', image.get('coco_url', 'no url'))\n",
        "    print('height:', image.get('height', -1))\n",
        "    print('width:', image.get('width', -1))\n",
        "    print('id:', image.get('id', -1))\n",
        "\n",
        "max_img = max(data.get('images'), key=lambda x: x.get('id', 0))\n",
        "\n",
        "max_img.get('file_name', 'no file name')"
      ]
    }
  ],
  "metadata": {
    "colab": {
      "collapsed_sections": [],
      "name": "Practice_14_KM_01.ipynb",
      "provenance": []
    },
    "kernelspec": {
      "display_name": "Python 3",
      "language": "python",
      "name": "python3"
    },
    "language_info": {
      "codemirror_mode": {
        "name": "ipython",
        "version": 3
      },
      "file_extension": ".py",
      "mimetype": "text/x-python",
      "name": "python",
      "nbconvert_exporter": "python",
      "pygments_lexer": "ipython3",
      "version": "3.10.7"
    },
    "vscode": {
      "interpreter": {
        "hash": "78f5b707d86fd9281530b9fa2dbdbe1b33232c3b651a8e052360c651d4996094"
      }
    }
  },
  "nbformat": 4,
  "nbformat_minor": 0
}
