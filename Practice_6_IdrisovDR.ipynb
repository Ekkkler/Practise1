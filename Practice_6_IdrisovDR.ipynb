{
  "cells": [
    {
      "cell_type": "markdown",
      "metadata": {
        "id": "FMqboNwO4rVs"
      },
      "source": [
        "# **Курс \"Програмування на мові Python\"**"
      ]
    },
    {
      "cell_type": "markdown",
      "metadata": {
        "id": "A2T6MigL5Z06"
      },
      "source": [
        "## **Практичне зайняття №6**\n",
        "### Тема: \"Робота з кортежами, множинами та словниками\""
      ]
    },
    {
      "cell_type": "markdown",
      "metadata": {
        "id": "4AV5CN7N4xja"
      },
      "source": [
        "### **Завдання 1 (1,5 бали)**\n",
        "\n",
        "Напишіть програму, яка визначала б, чи можна з літер однієї фрази скласти іншу фразу. Наприклад:\n",
        "\n",
        "\"William Shakespeare\" -> \"A small spark\"\n",
        "\n",
        "Перша фраза містить 11 унікальних літер (хоча деякі повторюються): a, e, h, i, k, l, m, p, r, s та w. Друга фраза містить 7 унікальних літер: a, k, l, m, p, r та s. Кожна з літер другої фрази зустрічається принаймні один раз у першій фразі.\n",
        "\n",
        "1. Обидві фрази повинні вводитись користувачем з клавіатури.\n",
        "\n",
        "2. Скористайтесь властивістю множин у мові програмування Python для виділення колекції унікальних літер.\n",
        "\n",
        "3. У множину не повинні потрапити пробіли, розділові знаки та інші символи, що не є літерами (скористайтесь методом **isalpha()**). Також усі літери мають бути переведені в нижній або верхній регістр (скористайтесь методами **lower()** або **upper()**).\n",
        "\n",
        "4. Зверніть увагу на те, що літери як в першій, так і вдругій фразі можуть повторюватись. Однак множина унікальних літер другої фрази повинна бути підмножиною множини унікальних літер першої фрази.\n",
        "\n",
        "5. У складі змістовного повідомлення програма повинна виводити множину літер першої фрази, множину літер другої фрази, а також змістовне повідомлення про те, чи можна скласти з літер першої фрази другу фразу."
      ]
    },
    {
      "cell_type": "code",
      "execution_count": 2,
      "metadata": {
        "id": "9Mesp1jV4xjb"
      },
      "outputs": [
        {
          "name": "stdout",
          "output_type": "stream",
          "text": [
            "Set of letters of the first phrase: {'s', 'b', 'o'}\n",
            "Set of letters of the second phrase: {'s', 'o'}\n",
            "The second set is a subset of the first, so you can make the second phrase from the letters of the first phrase\n"
          ]
        }
      ],
      "source": [
        "#first phrase\n",
        "x = input(\"Enter first phrase:\\n\")\n",
        "if x.isalpha() == True:\n",
        "    print(\"Set of letters of the first phrase:\", set(x))\n",
        "else:\n",
        "    print(\"Some or all symbols of the first phrase are NOT letters\")\n",
        "#second phrase\n",
        "y = input(\"Enter second phrase:\\n\")\n",
        "if y.isalpha() == True:\n",
        "    print(\"Set of letters of the second phrase:\", set(y))\n",
        "else:\n",
        "    print(\"Some or all symbols of the second phrase are NOT letters\")\n",
        "#check subset\n",
        "if set(y)<=set(x):\n",
        "    print(\"The second set is a subset of the first, so you can make the second phrase from the letters of the first phrase\")\n",
        "else:\n",
        "    print(\"The second set is NOT a subset of the first, so you can NOT make the second phrase from the letters of the first phrase\")"
      ]
    },
    {
      "cell_type": "markdown",
      "metadata": {
        "id": "y7pQFLvSCkym"
      },
      "source": [
        "### **Завдання 2 (1,5 бали)**\n",
        "\n",
        "У Канаді поштові індекси мають специфічну форму. Вони складаються з трьох символів. Перший символ вказує на провінцію. Другий символ вказує на те, у міській чи у сільській місцевості знаходиться адресат. Якщо у сільській місцевості - це 0. Якщо у міській - будь-яка інша цифра. Провінція позначається великою латинською літерою. Повний перелік провінцій на літер, що їм відповідають, подано у таблиці.\n",
        "\n",
        "Провінція | Перший символ поштового індекса\n",
        "--- | ---\n",
        "Newfoundland | A\n",
        "Nova Scotia | B\n",
        "Prince Edward Island | C\n",
        "New Brunswick | E\n",
        "Quebec | G, H and J\n",
        "Ontario | K, L, M, N and P\n",
        "Manitoba | R\n",
        "Saskatchewan | S\n",
        "Alberta | T\n",
        "British Columbia | V\n",
        "Nunavut | X\n",
        "Northwest Territories | X\n",
        "Yukon | Y\n",
        "\n",
        "Напишіть програму, яка зчитує поштовий індекс, введений користувачем, та виводить у складі змістовного повідомлення провінцію адресата та інформацію про те, у міській чи у сільській місцевості він знаходиться. Наприклад, якщо користувач вводить T2N, програма повинна визначити, що адресат знаходиться у міській місцевості провінції Альберта. Якщо він вводить X0A, адресат знаходиться у сільській місцевості провінції Нанавут або Північних Територій (зверніть увагу на те, що літера X повторюється для двох провінцій). Третя літера для нас неважлива. Зауважте, що літери D, F, I, O, Q, U, W, та Z не позначають жодної з провінцій Канади.\n",
        "\n",
        "1. Скористайтесь словником для збереження усіх провінцій та літер, що їм відповідають.\n",
        "\n",
        "2. Користувач повинен ввести рівно 3 символи. Перший і останній символи мають бути літерами, другий - цифрою. Для перевірки скористайтесь методами **isalpha()** та **isdigit()**. Якщо користувач введе не 3 символи, а більше чи менше, або ж послідовність літер та цифр не буде співпадати з шаблоном, програма має вивести повідомлення про помилку.\n",
        "\n",
        "3. Програма повинна приймати літери як верхнього, так і нижнього регістрів. Однак виводити - лише у верхньому регістрі (скористайтесь методами **lower()** або **upper()**)."
      ]
    },
    {
      "cell_type": "code",
      "execution_count": 4,
      "metadata": {},
      "outputs": [
        {
          "name": "stdout",
          "output_type": "stream",
          "text": [
            "Country: Saskatchewan \n",
            "Locality: Countryside\n"
          ]
        }
      ],
      "source": [
        "dict1 = {\n",
        "                \"A\": \"Newfoundland\",\n",
        "                \"B\": \"Nova Scotia\",\n",
        "                \"C\": \"Prince Edward Island\",\n",
        "                \"E\": \"New Brunswick\",\n",
        "                \"G\": \"Quebec\",\n",
        "                \"H\": \"Quebec\",\n",
        "                \"J\": \"Quebec\",\n",
        "                \"K\": \"Ontario\", \n",
        "                \"L\": \"Ontario\", \n",
        "                \"M\": \"Ontario\", \n",
        "                \"N\": \"Ontario\", \n",
        "                \"P\": \"Ontario\", \n",
        "                \"R\": \"Manitoba\",\n",
        "                \"S\": \"Saskatchewan\",\n",
        "                \"T\": \"Alberta\",\n",
        "                \"V\": \"British Columbia\",\n",
        "                \"X\": \"Nunavut or Northwest Territories\",\n",
        "                \"Y\": \"Yukon\",  \n",
        "                }\n",
        "try:\n",
        "    index = list(str.upper(input(\"Enter three symbols of Kanada index:\\n first - letter\\n second - number\\n third - letter\\n (all letters in English):\\n\")))\n",
        "    if index[0].isalpha() & index[1].isdigit() & index[2].isalpha() is True:\n",
        "    \n",
        "       \n",
        "        if index[1] == \"0\" and (dict1.get(index[0]) is not None):\n",
        "              print(\"Country:\",dict1.get(index[0]),\"\\n\" \"Locality: Countryside\")\n",
        "        elif dict1.get(index[0]) is None:\n",
        "               print(\"Such index doesn`t exist\")\n",
        "        elif index[1] != \"0\" and (dict1.get(index[0]) is not None):\n",
        "              print(\"Country:\",dict1.get(index[0]),\"\\n\" \"Locality: Urban area.\")\n",
        "    else:\n",
        "        print(\"Invalid index. Try again\")        \n",
        "      \n",
        "    \n",
        "except IndexError:\n",
        "    print(\"You enter NOT 3 symbols. Try again.\")"
      ]
    }
  ],
  "metadata": {
    "colab": {
      "collapsed_sections": [],
      "name": "Practice_5_KM_04_.ipynb",
      "provenance": []
    },
    "kernelspec": {
      "display_name": "Python 3.10.7 64-bit",
      "language": "python",
      "name": "python3"
    },
    "language_info": {
      "codemirror_mode": {
        "name": "ipython",
        "version": 3
      },
      "file_extension": ".py",
      "mimetype": "text/x-python",
      "name": "python",
      "nbconvert_exporter": "python",
      "pygments_lexer": "ipython3",
      "version": "3.10.7"
    },
    "vscode": {
      "interpreter": {
        "hash": "78f5b707d86fd9281530b9fa2dbdbe1b33232c3b651a8e052360c651d4996094"
      }
    }
  },
  "nbformat": 4,
  "nbformat_minor": 2
}
